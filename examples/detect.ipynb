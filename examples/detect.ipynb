{
 "metadata": {
  "name": "detect"
 },
 "nbformat": 3,
 "nbformat_minor": 0,
 "worksheets": [
  {
   "cells": [
    {
     "cell_type": "code",
     "collapsed": false,
     "input": [
      "import sys\n",
      "sys.path.append(\"..\")\n",
      "\n",
      "from peak_detection import detect_peaks\n",
      "from tifffile import TiffFile\n",
      "\n",
      "fname = 'sample.tif'\n",
      "\n",
      "detection_parameters = {'w_s': 10,\n",
      "                        'peak_radius': 4.,\n",
      "                        'threshold': 60.,\n",
      "                        'max_peaks': 10\n",
      "                        }\n",
      "\n",
      "sample = TiffFile(fname)\n",
      "peaks = detect_peaks(sample.asarray(), shape_label=('t', 'z', 'x', 'y'), parallel=True, **detection_parameters)"
     ],
     "language": "python",
     "metadata": {},
     "outputs": [
      {
       "output_type": "stream",
       "stream": "stderr",
       "text": [
        "2013-06-28 19:52:38:INFO:peak_detection.detection: Parallel mode enabled: 5 cores will be used to process 9 stacks\n"
       ]
      },
      {
       "output_type": "stream",
       "stream": "stderr",
       "text": [
        "2013-06-28 19:52:40:INFO:peak_detection.detection: Detection done for stack number 3: 4 peaks detected (1/9 - 11%)\n"
       ]
      },
      {
       "output_type": "stream",
       "stream": "stderr",
       "text": [
        "2013-06-28 19:52:40:INFO:peak_detection.detection: Detection done for stack number 2: 3 peaks detected (2/9 - 22%)\n"
       ]
      },
      {
       "output_type": "stream",
       "stream": "stderr",
       "text": [
        "2013-06-28 19:52:40:INFO:peak_detection.detection: Detection done for stack number 4: 5 peaks detected (3/9 - 33%)\n"
       ]
      },
      {
       "output_type": "stream",
       "stream": "stderr",
       "text": [
        "2013-06-28 19:52:40:INFO:peak_detection.detection: Detection done for stack number 1: 2 peaks detected (4/9 - 44%)\n"
       ]
      },
      {
       "output_type": "stream",
       "stream": "stderr",
       "text": [
        "2013-06-28 19:52:41:INFO:peak_detection.detection: Detection done for stack number 0: 1 peaks detected (5/9 - 55%)\n"
       ]
      },
      {
       "output_type": "stream",
       "stream": "stderr",
       "text": [
        "2013-06-28 19:52:41:INFO:peak_detection.detection: Detection done for stack number 5: 6 peaks detected (6/9 - 66%)\n"
       ]
      },
      {
       "output_type": "stream",
       "stream": "stderr",
       "text": [
        "2013-06-28 19:52:42:INFO:peak_detection.detection: Detection done for stack number 6: 7 peaks detected (7/9 - 77%)\n"
       ]
      },
      {
       "output_type": "stream",
       "stream": "stderr",
       "text": [
        "2013-06-28 19:52:42:INFO:peak_detection.detection: Detection done for stack number 7: 8 peaks detected (8/9 - 88%)\n"
       ]
      },
      {
       "output_type": "stream",
       "stream": "stderr",
       "text": [
        "2013-06-28 19:52:42:INFO:peak_detection.detection: Detection done for stack number 8: 9 peaks detected (9/9 - 100%)\n"
       ]
      },
      {
       "output_type": "stream",
       "stream": "stderr",
       "text": [
        "2013-06-28 19:52:42:INFO:peak_detection.detection: Reordering stacks\n"
       ]
      },
      {
       "output_type": "stream",
       "stream": "stderr",
       "text": [
        "2013-06-28 19:52:42:INFO:peak_detection.detection: Add original shape to DataFrame as columns. Shape = (3, 3, 54, 209)\n"
       ]
      },
      {
       "output_type": "stream",
       "stream": "stderr",
       "text": [
        "2013-06-28 19:52:42:INFO:peak_detection.detection: Detection is done\n"
       ]
      },
      {
       "output_type": "stream",
       "stream": "stderr",
       "text": [
        "2013-06-28 19:52:42:INFO:peak_detection.detection: 45 peaks detected in 9 stacks\n"
       ]
      }
     ],
     "prompt_number": 2
    },
    {
     "cell_type": "code",
     "collapsed": false,
     "input": [
      "print peaks"
     ],
     "language": "python",
     "metadata": {},
     "outputs": [
      {
       "output_type": "stream",
       "stream": "stdout",
       "text": [
        "                   x           y       w           I  t  z\n",
        "stacks id                                                 \n",
        "0      0   19.022877   28.102197  2.9038  195.396065  0  0\n",
        "1      0   19.022877   28.102197  2.9038  195.396065  0  1\n",
        "       1   25.022877  189.102197  2.9038  195.396065  0  1\n",
        "2      0   14.022877  133.102197  2.9038  195.396065  0  2\n",
        "       1   29.022877   44.102197  2.9038  195.396065  0  2\n",
        "       2   29.022877   97.102197  2.9038  195.396065  0  2\n",
        "3      0   19.022877   28.102197  2.9038  195.396065  1  0\n",
        "       1   24.022877  132.102197  2.9038  195.396065  1  0\n",
        "       2   24.022877  178.102197  2.9038  195.396065  1  0\n",
        "       3   29.022877   79.102197  2.9038  195.396065  1  0\n",
        "4      0   19.022877   27.102197  2.9038  195.396065  1  1\n",
        "       1   26.022877  181.102197  2.9038  195.396065  1  1\n",
        "       2   28.022877   80.102197  2.9038  195.396065  1  1\n",
        "       3   28.022877  128.102197  2.9038  195.396065  1  1\n",
        "       4   45.022877   43.102197  2.9038  195.396065  1  1\n",
        "5      0   15.022877  147.102197  2.9038  195.396065  1  2\n",
        "       1   17.022877   55.102197  2.9038  195.396065  1  2\n",
        "       2   18.022877   88.102197  2.9038  195.396065  1  2\n",
        "       3   27.022877   22.102197  2.9038  195.396065  1  2\n",
        "       4   35.022877  122.102197  2.9038  195.396065  1  2\n",
        "       5   38.022877   66.102197  2.9038  195.396065  1  2\n",
        "6      0   14.022877  131.102197  2.9038  195.396065  2  0\n",
        "       1   15.022877   75.102197  2.9038  195.396065  2  0\n",
        "       2   32.022877   39.102197  2.9038  195.396065  2  0\n",
        "       3   34.022877   99.102197  2.9038  195.396065  2  0\n",
        "       4   36.022877   67.102197  2.9038  195.396065  2  0\n",
        "       5   36.022877  157.102197  2.9038  195.396065  2  0\n",
        "       6   37.022877  125.102197  2.9038  195.396065  2  0\n",
        "7      0   14.022877  131.102197  2.9038  195.396065  2  1\n",
        "       1   15.022877   75.102197  2.9038  195.396065  2  1\n",
        "       2   16.022877  176.102197  2.9038  195.396065  2  1\n",
        "       3   32.022877   39.102197  2.9038  195.396065  2  1\n",
        "       4   34.022877   99.102197  2.9038  195.396065  2  1\n",
        "       5   36.022877   67.102197  2.9038  195.396065  2  1\n",
        "       6   36.022877  157.102197  2.9038  195.396065  2  1\n",
        "       7   37.022877  125.102197  2.9038  195.396065  2  1\n",
        "8      0   14.022877    8.102197  2.9038  195.396065  2  2\n",
        "       1   14.022877  131.102197  2.9038  195.396065  2  2\n",
        "       2   15.022877   75.102197  2.9038  195.396065  2  2\n",
        "       3   16.022877  176.102197  2.9038  195.396065  2  2\n",
        "       4   32.022877   39.102197  2.9038  195.396065  2  2\n",
        "       5   34.022877   99.102197  2.9038  195.396065  2  2\n",
        "       6   36.022877   67.102197  2.9038  195.396065  2  2\n",
        "       7   36.022877  157.102197  2.9038  195.396065  2  2\n",
        "       8   37.022877  125.102197  2.9038  195.396065  2  2\n"
       ]
      }
     ],
     "prompt_number": 3
    },
    {
     "cell_type": "markdown",
     "metadata": {},
     "source": [
      "Test\n",
      "----"
     ]
    },
    {
     "cell_type": "code",
     "collapsed": false,
     "input": [
      "import sys\n",
      "sys.path.append(\"..\")\n",
      "\n",
      "from peak_detection import detect_peaks\n",
      "from tifffile import TiffFile\n",
      "\n",
      "fname = 'sample2.tif'\n",
      "\n",
      "detection_parameters = {'w_s': 11,\n",
      "                        'peak_radius': 4.,\n",
      "                        'threshold': 40.,\n",
      "                        'max_peaks': 4\n",
      "                        }\n",
      "\n",
      "sample = TiffFile(fname)\n",
      "peaks = detect_peaks(sample.asarray(), shape_label=('t', 'x', 'y'), parallel=True, **detection_parameters)"
     ],
     "language": "python",
     "metadata": {},
     "outputs": [
      {
       "output_type": "stream",
       "stream": "stderr",
       "text": [
        "2013-06-30 11:57:03:INFO:peak_detection.detection: Parallel mode enabled: 5 cores will be used to process 7 stacks\n"
       ]
      },
      {
       "output_type": "stream",
       "stream": "stderr",
       "text": [
        "2013-06-30 11:57:07:INFO:peak_detection.detection: Detection done for stack number 3: 4 peaks detected (1/7 - 14%)\n"
       ]
      },
      {
       "output_type": "stream",
       "stream": "stderr",
       "text": [
        "2013-06-30 11:57:08:INFO:peak_detection.detection: Detection done for stack number 0: 4 peaks detected (2/7 - 28%)\n"
       ]
      },
      {
       "output_type": "stream",
       "stream": "stderr",
       "text": [
        "2013-06-30 11:57:08:INFO:peak_detection.detection: Detection done for stack number 4: 4 peaks detected (3/7 - 42%)\n"
       ]
      },
      {
       "output_type": "stream",
       "stream": "stderr",
       "text": [
        "2013-06-30 11:57:08:INFO:peak_detection.detection: Detection done for stack number 1: 4 peaks detected (4/7 - 57%)\n"
       ]
      },
      {
       "output_type": "stream",
       "stream": "stderr",
       "text": [
        "2013-06-30 11:57:09:INFO:peak_detection.detection: Detection done for stack number 2: 4 peaks detected (5/7 - 71%)\n"
       ]
      },
      {
       "output_type": "stream",
       "stream": "stderr",
       "text": [
        "2013-06-30 11:57:11:INFO:peak_detection.detection: Detection done for stack number 6: 4 peaks detected (6/7 - 85%)\n"
       ]
      },
      {
       "output_type": "stream",
       "stream": "stderr",
       "text": [
        "2013-06-30 11:57:11:INFO:peak_detection.detection: Detection done for stack number 5: 4 peaks detected (7/7 - 100%)\n"
       ]
      },
      {
       "output_type": "stream",
       "stream": "stderr",
       "text": [
        "2013-06-30 11:57:11:INFO:peak_detection.detection: Reordering stacks\n"
       ]
      },
      {
       "output_type": "stream",
       "stream": "stderr",
       "text": [
        "2013-06-30 11:57:11:INFO:peak_detection.detection: Add original shape to DataFrame as columns. Shape = (7, 174, 136)\n"
       ]
      },
      {
       "output_type": "stream",
       "stream": "stderr",
       "text": [
        "2013-06-30 11:57:11:INFO:peak_detection.detection: Detection is done\n"
       ]
      },
      {
       "output_type": "stream",
       "stream": "stderr",
       "text": [
        "2013-06-30 11:57:11:INFO:peak_detection.detection: 28 peaks detected in 7 stacks\n"
       ]
      }
     ],
     "prompt_number": 23
    },
    {
     "cell_type": "code",
     "collapsed": false,
     "input": [
      "peaks"
     ],
     "language": "python",
     "metadata": {},
     "outputs": [
      {
       "html": [
        "<div style=\"max-height:1000px;max-width:1500px;overflow:auto;\">\n",
        "<table border=\"1\" class=\"dataframe\">\n",
        "  <thead>\n",
        "    <tr style=\"text-align: right;\">\n",
        "      <th></th>\n",
        "      <th></th>\n",
        "      <th>x</th>\n",
        "      <th>y</th>\n",
        "      <th>w</th>\n",
        "      <th>I</th>\n",
        "      <th>t</th>\n",
        "    </tr>\n",
        "    <tr>\n",
        "      <th>stacks</th>\n",
        "      <th>id</th>\n",
        "      <th></th>\n",
        "      <th></th>\n",
        "      <th></th>\n",
        "      <th></th>\n",
        "      <th></th>\n",
        "    </tr>\n",
        "  </thead>\n",
        "  <tbody>\n",
        "    <tr>\n",
        "      <th rowspan=\"5\" valign=\"top\">0</th>\n",
        "      <th>0</th>\n",
        "      <td>  54.235911</td>\n",
        "      <td> 52.506770</td>\n",
        "      <td> 2.556093</td>\n",
        "      <td> 114.627426</td>\n",
        "      <td> 0</td>\n",
        "    </tr>\n",
        "    <tr>\n",
        "      <th>1</th>\n",
        "      <td>  73.433618</td>\n",
        "      <td> 66.709726</td>\n",
        "      <td> 3.433574</td>\n",
        "      <td>  27.088401</td>\n",
        "      <td> 0</td>\n",
        "    </tr>\n",
        "    <tr>\n",
        "      <th>2</th>\n",
        "      <td>  85.036631</td>\n",
        "      <td> 74.464996</td>\n",
        "      <td> 2.929169</td>\n",
        "      <td>  41.467995</td>\n",
        "      <td> 0</td>\n",
        "    </tr>\n",
        "    <tr>\n",
        "      <th>3</th>\n",
        "      <td> 103.944423</td>\n",
        "      <td> 83.467475</td>\n",
        "      <td> 2.886491</td>\n",
        "      <td>  49.542518</td>\n",
        "      <td> 0</td>\n",
        "    </tr>\n",
        "    <tr>\n",
        "      <th>4</th>\n",
        "      <td>  78.307684</td>\n",
        "      <td> 69.270212</td>\n",
        "      <td> 3.210024</td>\n",
        "      <td>  25.890845</td>\n",
        "      <td> 0</td>\n",
        "    </tr>\n",
        "    <tr>\n",
        "      <th rowspan=\"4\" valign=\"top\">1</th>\n",
        "      <th>0</th>\n",
        "      <td>  55.066511</td>\n",
        "      <td> 52.814630</td>\n",
        "      <td> 2.461721</td>\n",
        "      <td>  82.566130</td>\n",
        "      <td> 1</td>\n",
        "    </tr>\n",
        "    <tr>\n",
        "      <th>1</th>\n",
        "      <td>  77.740361</td>\n",
        "      <td> 68.824674</td>\n",
        "      <td> 2.667702</td>\n",
        "      <td>  33.580101</td>\n",
        "      <td> 1</td>\n",
        "    </tr>\n",
        "    <tr>\n",
        "      <th>2</th>\n",
        "      <td>  86.641702</td>\n",
        "      <td> 74.740965</td>\n",
        "      <td> 2.692044</td>\n",
        "      <td>  49.828811</td>\n",
        "      <td> 1</td>\n",
        "    </tr>\n",
        "    <tr>\n",
        "      <th>3</th>\n",
        "      <td> 104.881418</td>\n",
        "      <td> 83.517489</td>\n",
        "      <td> 3.635377</td>\n",
        "      <td>  39.678935</td>\n",
        "      <td> 1</td>\n",
        "    </tr>\n",
        "    <tr>\n",
        "      <th rowspan=\"4\" valign=\"top\">2</th>\n",
        "      <th>0</th>\n",
        "      <td>  56.023922</td>\n",
        "      <td> 51.358608</td>\n",
        "      <td> 2.497579</td>\n",
        "      <td> 138.988493</td>\n",
        "      <td> 2</td>\n",
        "    </tr>\n",
        "    <tr>\n",
        "      <th>1</th>\n",
        "      <td>  73.678355</td>\n",
        "      <td> 65.092009</td>\n",
        "      <td> 2.709085</td>\n",
        "      <td>  51.337949</td>\n",
        "      <td> 2</td>\n",
        "    </tr>\n",
        "    <tr>\n",
        "      <th>2</th>\n",
        "      <td>  87.877030</td>\n",
        "      <td> 75.558687</td>\n",
        "      <td> 2.692462</td>\n",
        "      <td>  50.925738</td>\n",
        "      <td> 2</td>\n",
        "    </tr>\n",
        "    <tr>\n",
        "      <th>3</th>\n",
        "      <td> 105.756488</td>\n",
        "      <td> 84.624251</td>\n",
        "      <td> 3.270653</td>\n",
        "      <td>  67.629196</td>\n",
        "      <td> 2</td>\n",
        "    </tr>\n",
        "    <tr>\n",
        "      <th rowspan=\"4\" valign=\"top\">3</th>\n",
        "      <th>0</th>\n",
        "      <td>  54.852830</td>\n",
        "      <td> 52.585319</td>\n",
        "      <td> 2.525180</td>\n",
        "      <td> 113.381637</td>\n",
        "      <td> 3</td>\n",
        "    </tr>\n",
        "    <tr>\n",
        "      <th>1</th>\n",
        "      <td>  72.789346</td>\n",
        "      <td> 65.524667</td>\n",
        "      <td> 3.027540</td>\n",
        "      <td>  51.337092</td>\n",
        "      <td> 3</td>\n",
        "    </tr>\n",
        "    <tr>\n",
        "      <th>2</th>\n",
        "      <td>  87.111396</td>\n",
        "      <td> 75.766907</td>\n",
        "      <td> 2.658567</td>\n",
        "      <td>  56.762859</td>\n",
        "      <td> 3</td>\n",
        "    </tr>\n",
        "    <tr>\n",
        "      <th>3</th>\n",
        "      <td> 105.670918</td>\n",
        "      <td> 84.026303</td>\n",
        "      <td> 3.219252</td>\n",
        "      <td>  65.793656</td>\n",
        "      <td> 3</td>\n",
        "    </tr>\n",
        "    <tr>\n",
        "      <th rowspan=\"4\" valign=\"top\">4</th>\n",
        "      <th>0</th>\n",
        "      <td>  54.866967</td>\n",
        "      <td> 51.823387</td>\n",
        "      <td> 2.645592</td>\n",
        "      <td> 118.563148</td>\n",
        "      <td> 4</td>\n",
        "    </tr>\n",
        "    <tr>\n",
        "      <th>1</th>\n",
        "      <td>  71.750162</td>\n",
        "      <td> 64.761879</td>\n",
        "      <td> 2.479810</td>\n",
        "      <td>  60.609307</td>\n",
        "      <td> 4</td>\n",
        "    </tr>\n",
        "    <tr>\n",
        "      <th>2</th>\n",
        "      <td>  87.269149</td>\n",
        "      <td> 75.049273</td>\n",
        "      <td> 2.508574</td>\n",
        "      <td>  61.409083</td>\n",
        "      <td> 4</td>\n",
        "    </tr>\n",
        "    <tr>\n",
        "      <th>3</th>\n",
        "      <td> 104.681760</td>\n",
        "      <td> 83.958431</td>\n",
        "      <td> 2.623674</td>\n",
        "      <td>  49.719263</td>\n",
        "      <td> 4</td>\n",
        "    </tr>\n",
        "    <tr>\n",
        "      <th rowspan=\"4\" valign=\"top\">5</th>\n",
        "      <th>0</th>\n",
        "      <td>  54.715701</td>\n",
        "      <td> 52.303363</td>\n",
        "      <td> 2.842034</td>\n",
        "      <td>  84.047603</td>\n",
        "      <td> 5</td>\n",
        "    </tr>\n",
        "    <tr>\n",
        "      <th>1</th>\n",
        "      <td>  70.147989</td>\n",
        "      <td> 64.726866</td>\n",
        "      <td> 2.847789</td>\n",
        "      <td>  61.431767</td>\n",
        "      <td> 5</td>\n",
        "    </tr>\n",
        "    <tr>\n",
        "      <th>2</th>\n",
        "      <td>  86.220749</td>\n",
        "      <td> 75.426376</td>\n",
        "      <td> 2.650455</td>\n",
        "      <td>  57.578950</td>\n",
        "      <td> 5</td>\n",
        "    </tr>\n",
        "    <tr>\n",
        "      <th>3</th>\n",
        "      <td> 103.981784</td>\n",
        "      <td> 84.248760</td>\n",
        "      <td> 3.545516</td>\n",
        "      <td>  39.530649</td>\n",
        "      <td> 5</td>\n",
        "    </tr>\n",
        "    <tr>\n",
        "      <th rowspan=\"4\" valign=\"top\">6</th>\n",
        "      <th>0</th>\n",
        "      <td>  55.262774</td>\n",
        "      <td> 51.378838</td>\n",
        "      <td> 2.781330</td>\n",
        "      <td>  90.279892</td>\n",
        "      <td> 6</td>\n",
        "    </tr>\n",
        "    <tr>\n",
        "      <th>1</th>\n",
        "      <td>  70.935221</td>\n",
        "      <td> 63.453682</td>\n",
        "      <td> 2.829633</td>\n",
        "      <td>  56.304145</td>\n",
        "      <td> 6</td>\n",
        "    </tr>\n",
        "    <tr>\n",
        "      <th>2</th>\n",
        "      <td>  86.863289</td>\n",
        "      <td> 73.889498</td>\n",
        "      <td> 2.398855</td>\n",
        "      <td>  68.545522</td>\n",
        "      <td> 6</td>\n",
        "    </tr>\n",
        "    <tr>\n",
        "      <th>3</th>\n",
        "      <td> 104.533705</td>\n",
        "      <td> 83.028352</td>\n",
        "      <td> 2.923575</td>\n",
        "      <td>  56.381020</td>\n",
        "      <td> 6</td>\n",
        "    </tr>\n",
        "  </tbody>\n",
        "</table>\n",
        "</div>"
       ],
       "metadata": {},
       "output_type": "pyout",
       "prompt_number": 5,
       "text": [
        "                    x          y         w           I  t\n",
        "stacks id                                                \n",
        "0      0    54.235911  52.506770  2.556093  114.627426  0\n",
        "       1    73.433618  66.709726  3.433574   27.088401  0\n",
        "       2    85.036631  74.464996  2.929169   41.467995  0\n",
        "       3   103.944423  83.467475  2.886491   49.542518  0\n",
        "       4    78.307684  69.270212  3.210024   25.890845  0\n",
        "1      0    55.066511  52.814630  2.461721   82.566130  1\n",
        "       1    77.740361  68.824674  2.667702   33.580101  1\n",
        "       2    86.641702  74.740965  2.692044   49.828811  1\n",
        "       3   104.881418  83.517489  3.635377   39.678935  1\n",
        "2      0    56.023922  51.358608  2.497579  138.988493  2\n",
        "       1    73.678355  65.092009  2.709085   51.337949  2\n",
        "       2    87.877030  75.558687  2.692462   50.925738  2\n",
        "       3   105.756488  84.624251  3.270653   67.629196  2\n",
        "3      0    54.852830  52.585319  2.525180  113.381637  3\n",
        "       1    72.789346  65.524667  3.027540   51.337092  3\n",
        "       2    87.111396  75.766907  2.658567   56.762859  3\n",
        "       3   105.670918  84.026303  3.219252   65.793656  3\n",
        "4      0    54.866967  51.823387  2.645592  118.563148  4\n",
        "       1    71.750162  64.761879  2.479810   60.609307  4\n",
        "       2    87.269149  75.049273  2.508574   61.409083  4\n",
        "       3   104.681760  83.958431  2.623674   49.719263  4\n",
        "5      0    54.715701  52.303363  2.842034   84.047603  5\n",
        "       1    70.147989  64.726866  2.847789   61.431767  5\n",
        "       2    86.220749  75.426376  2.650455   57.578950  5\n",
        "       3   103.981784  84.248760  3.545516   39.530649  5\n",
        "6      0    55.262774  51.378838  2.781330   90.279892  6\n",
        "       1    70.935221  63.453682  2.829633   56.304145  6\n",
        "       2    86.863289  73.889498  2.398855   68.545522  6\n",
        "       3   104.533705  83.028352  2.923575   56.381020  6"
       ]
      }
     ],
     "prompt_number": 5
    },
    {
     "cell_type": "code",
     "collapsed": false,
     "input": [
      "from peak_detection.detection import gauss_patch\n",
      "clf()\n",
      "arr = gauss_patch(4, 11)\n",
      "imshow(arr, cmap='gray', interpolation='none')"
     ],
     "language": "python",
     "metadata": {},
     "outputs": [
      {
       "metadata": {},
       "output_type": "pyout",
       "prompt_number": 12,
       "text": [
        "<matplotlib.image.AxesImage at 0x5c596d0>"
       ]
      }
     ],
     "prompt_number": 12
    },
    {
     "cell_type": "code",
     "collapsed": false,
     "input": [
      "0.19/0.0645"
     ],
     "language": "python",
     "metadata": {},
     "outputs": [
      {
       "metadata": {},
       "output_type": "pyout",
       "prompt_number": 14,
       "text": [
        "2.945736434108527"
       ]
      }
     ],
     "prompt_number": 14
    }
   ],
   "metadata": {}
  }
 ]
}